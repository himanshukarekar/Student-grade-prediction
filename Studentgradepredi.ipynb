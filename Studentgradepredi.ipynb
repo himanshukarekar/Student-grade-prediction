{
  "nbformat": 4,
  "nbformat_minor": 0,
  "metadata": {
    "colab": {
      "provenance": [],
      "gpuType": "T4"
    },
    "kernelspec": {
      "name": "python3",
      "display_name": "Python 3"
    },
    "language_info": {
      "name": "python"
    },
    "accelerator": "GPU"
  },
  "cells": [
    {
      "cell_type": "code",
      "execution_count": 1,
      "metadata": {
        "colab": {
          "base_uri": "https://localhost:8080/"
        },
        "id": "eYqbJgEOsxxa",
        "outputId": "bb3e5981-5035-4b9e-d444-d1ef206b0f4b"
      },
      "outputs": [
        {
          "output_type": "stream",
          "name": "stdout",
          "text": [
            "Mounted at /content/gdrive\n"
          ]
        }
      ],
      "source": [
        "# prompt: write code for accessing gdrive acesss\n",
        "\n",
        "from google.colab import drive\n",
        "drive.mount('/content/gdrive')\n"
      ]
    },
    {
      "cell_type": "code",
      "source": [
        "import pandas as pd\n",
        "import numpy as np\n",
        "from sklearn.model_selection import train_test_split\n",
        "from sklearn.preprocessing import StandardScaler\n",
        "from sklearn.linear_model import LogisticRegression\n",
        "from sklearn.tree import DecisionTreeClassifier\n",
        "from sklearn.ensemble import RandomForestClassifier\n",
        "from sklearn.metrics import accuracy_score, confusion_matrix, classification_report\n",
        "\n",
        "# Load the dataset\n",
        "data = pd.read_csv(\"/content/gdrive/MyDrive/Student performance /Student_performance_data _.csv\")"
      ],
      "metadata": {
        "id": "vWO8H7Mvtm6s"
      },
      "execution_count": 2,
      "outputs": []
    },
    {
      "cell_type": "code",
      "source": [
        "# Display the first few rows of the dataset\n",
        "print(data.head())\n",
        "\n",
        "# Check for missing values\n",
        "print(data.isnull().sum())\n",
        "\n",
        "# Define features (X) and target (y)\n",
        "X = data.drop(['StudentID', 'GPA', 'GradeClass'], axis=1)\n",
        "y = data['GradeClass']\n",
        "\n",
        "# Check the data type of the target variable\n",
        "print(y.dtype)\n",
        "\n",
        "# Ensure the target variable is categorical\n",
        "y = y.astype('category')"
      ],
      "metadata": {
        "colab": {
          "base_uri": "https://localhost:8080/"
        },
        "id": "_Vh8i2oftwbv",
        "outputId": "57d5be3c-a4b8-4b89-b75a-10112a623a2f"
      },
      "execution_count": 3,
      "outputs": [
        {
          "output_type": "stream",
          "name": "stdout",
          "text": [
            "   StudentID  Age  Gender  Ethnicity  ParentalEducation  StudyTimeWeekly  \\\n",
            "0       1001   17       1          0                  2        19.833723   \n",
            "1       1002   18       0          0                  1        15.408756   \n",
            "2       1003   15       0          2                  3         4.210570   \n",
            "3       1004   17       1          0                  3        10.028829   \n",
            "4       1005   17       1          0                  2         4.672495   \n",
            "\n",
            "   Absences  Tutoring  ParentalSupport  Extracurricular  Sports  Music  \\\n",
            "0         7         1                2                0       0      1   \n",
            "1         0         0                1                0       0      0   \n",
            "2        26         0                2                0       0      0   \n",
            "3        14         0                3                1       0      0   \n",
            "4        17         1                3                0       0      0   \n",
            "\n",
            "   Volunteering       GPA  GradeClass  \n",
            "0             0  2.929196         2.0  \n",
            "1             0  3.042915         1.0  \n",
            "2             0  0.112602         4.0  \n",
            "3             0  2.054218         3.0  \n",
            "4             0  1.288061         4.0  \n",
            "StudentID            0\n",
            "Age                  0\n",
            "Gender               0\n",
            "Ethnicity            0\n",
            "ParentalEducation    0\n",
            "StudyTimeWeekly      0\n",
            "Absences             0\n",
            "Tutoring             0\n",
            "ParentalSupport      0\n",
            "Extracurricular      0\n",
            "Sports               0\n",
            "Music                0\n",
            "Volunteering         0\n",
            "GPA                  0\n",
            "GradeClass           0\n",
            "dtype: int64\n",
            "float64\n"
          ]
        }
      ]
    },
    {
      "cell_type": "code",
      "source": [
        "X_train, X_test, y_train, y_test = train_test_split(X, y, test_size=0.2, random_state=42)"
      ],
      "metadata": {
        "id": "5jjBj4M_t6Eq"
      },
      "execution_count": 4,
      "outputs": []
    },
    {
      "cell_type": "code",
      "source": [
        "# Standardize the features\n",
        "scaler = StandardScaler()\n",
        "X_train = scaler.fit_transform(X_train)\n",
        "X_test = scaler.transform(X_test)"
      ],
      "metadata": {
        "id": "gvenwd0juBDC"
      },
      "execution_count": 5,
      "outputs": []
    },
    {
      "cell_type": "code",
      "source": [
        "\n",
        "log_reg = LogisticRegression(max_iter=1000)\n",
        "log_reg.fit(X_train, y_train)\n",
        "y_pred_log_reg = log_reg.predict(X_test)\n",
        "log_reg_accuracy = accuracy_score(y_test, y_pred_log_reg)\n",
        "print(f'Logistic Regression Accuracy: {log_reg_accuracy}')\n",
        "print(confusion_matrix(y_test, y_pred_log_reg))\n",
        "print(classification_report(y_test, y_pred_log_reg))\n"
      ],
      "metadata": {
        "colab": {
          "base_uri": "https://localhost:8080/"
        },
        "id": "y1BiWIEtuHop",
        "outputId": "730e3471-e4d2-4dcc-93be-9ab2e9819238"
      },
      "execution_count": 9,
      "outputs": [
        {
          "output_type": "stream",
          "name": "stdout",
          "text": [
            "Logistic Regression Accuracy: 0.6826722338204593\n",
            "[[  0  15   3   2   2]\n",
            " [  5  19  20   1   4]\n",
            " [  2  12  49  16   6]\n",
            " [  1   2  21  31  31]\n",
            " [  0   1   0   8 228]]\n",
            "              precision    recall  f1-score   support\n",
            "\n",
            "         0.0       0.00      0.00      0.00        22\n",
            "         1.0       0.39      0.39      0.39        49\n",
            "         2.0       0.53      0.58      0.55        85\n",
            "         3.0       0.53      0.36      0.43        86\n",
            "         4.0       0.84      0.96      0.90       237\n",
            "\n",
            "    accuracy                           0.68       479\n",
            "   macro avg       0.46      0.46      0.45       479\n",
            "weighted avg       0.65      0.68      0.66       479\n",
            "\n"
          ]
        }
      ]
    },
    {
      "cell_type": "code",
      "source": [
        "# Train Decision Tree model\n",
        "decision_tree = DecisionTreeClassifier(random_state=42)\n",
        "decision_tree.fit(X_train, y_train)\n",
        "y_pred_decision_tree = decision_tree.predict(X_test)\n",
        "decision_tree_accuracy = accuracy_score(y_test, y_pred_decision_tree)\n",
        "print(f'Decision Tree Accuracy: {decision_tree_accuracy}')\n",
        "print(confusion_matrix(y_test, y_pred_decision_tree))\n",
        "print(classification_report(y_test, y_pred_decision_tree))\n",
        "\n"
      ],
      "metadata": {
        "colab": {
          "base_uri": "https://localhost:8080/"
        },
        "id": "J112O4NMvwjf",
        "outputId": "d3afd02d-f707-47d7-a31e-b6f3695a5652"
      },
      "execution_count": 10,
      "outputs": [
        {
          "output_type": "stream",
          "name": "stdout",
          "text": [
            "Decision Tree Accuracy: 0.6200417536534447\n",
            "[[  4  10   5   1   2]\n",
            " [  2  25  14   3   5]\n",
            " [  4  19  37  16   9]\n",
            " [  1   6  19  35  25]\n",
            " [  5   5   9  22 196]]\n",
            "              precision    recall  f1-score   support\n",
            "\n",
            "         0.0       0.25      0.18      0.21        22\n",
            "         1.0       0.38      0.51      0.44        49\n",
            "         2.0       0.44      0.44      0.44        85\n",
            "         3.0       0.45      0.41      0.43        86\n",
            "         4.0       0.83      0.83      0.83       237\n",
            "\n",
            "    accuracy                           0.62       479\n",
            "   macro avg       0.47      0.47      0.47       479\n",
            "weighted avg       0.62      0.62      0.62       479\n",
            "\n"
          ]
        }
      ]
    },
    {
      "cell_type": "code",
      "source": [
        "# Train Random Forest model\n",
        "random_forest = RandomForestClassifier(random_state=42)\n",
        "random_forest.fit(X_train, y_train)\n",
        "y_pred_random_forest = random_forest.predict(X_test)\n",
        "random_forest_accuracy = accuracy_score(y_test, y_pred_random_forest)\n",
        "print(f'Random Forest Accuracy: {random_forest_accuracy}')\n",
        "print(confusion_matrix(y_test, y_pred_random_forest))\n",
        "print(classification_report(y_test, y_pred_random_forest))"
      ],
      "metadata": {
        "colab": {
          "base_uri": "https://localhost:8080/"
        },
        "id": "PQTuALBOvzeN",
        "outputId": "dc224d9a-6e88-44f7-d077-333ef4f5d01b"
      },
      "execution_count": 11,
      "outputs": [
        {
          "output_type": "stream",
          "name": "stdout",
          "text": [
            "Random Forest Accuracy: 0.6889352818371608\n",
            "[[  2   9   7   2   2]\n",
            " [  1  26  16   2   4]\n",
            " [  0  15  42  23   5]\n",
            " [  0   1  19  37  29]\n",
            " [  0   1   3  10 223]]\n",
            "              precision    recall  f1-score   support\n",
            "\n",
            "         0.0       0.67      0.09      0.16        22\n",
            "         1.0       0.50      0.53      0.51        49\n",
            "         2.0       0.48      0.49      0.49        85\n",
            "         3.0       0.50      0.43      0.46        86\n",
            "         4.0       0.85      0.94      0.89       237\n",
            "\n",
            "    accuracy                           0.69       479\n",
            "   macro avg       0.60      0.50      0.50       479\n",
            "weighted avg       0.68      0.69      0.67       479\n",
            "\n"
          ]
        }
      ]
    },
    {
      "cell_type": "code",
      "source": [
        "# Compare model accuracies\n",
        "model_accuracies = {\n",
        "    'Logistic Regression': log_reg_accuracy,\n",
        "    'Decision Tree': decision_tree_accuracy,\n",
        "    'Random Forest': random_forest_accuracy\n",
        "}\n",
        "print(model_accuracies)"
      ],
      "metadata": {
        "colab": {
          "base_uri": "https://localhost:8080/"
        },
        "id": "rZFvRPt9v2Hs",
        "outputId": "4373e7aa-0456-44d0-8b52-93be3fe0f897"
      },
      "execution_count": 13,
      "outputs": [
        {
          "output_type": "stream",
          "name": "stdout",
          "text": [
            "{'Logistic Regression': 0.6826722338204593, 'Decision Tree': 0.6200417536534447, 'Random Forest': 0.6889352818371608}\n"
          ]
        }
      ]
    }
  ]
}